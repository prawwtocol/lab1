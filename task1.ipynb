{
 "cells": [
  {
   "cell_type": "code",
   "execution_count": 1,
   "metadata": {},
   "outputs": [],
   "source": [
    "import numpy as np\n",
    "import pandas as pd\n",
    "import math\n",
    "import seaborn.objects as so\n",
    "import matplotlib.pyplot as plt\n",
    "import seaborn as sns\n",
    "sns.set(palette='Set2', font_scale=1.3)"
   ]
  },
  {
   "cell_type": "code",
   "execution_count": 16,
   "metadata": {},
   "outputs": [
    {
     "data": {
      "text/plain": [
       "(array([  2.,   2.,   5.,  14.,  20.,  38.,  56.,  70., 114., 135., 143.,\n",
       "        110., 102.,  81.,  47.,  35.,  13.,   5.,   4.,   4.]),\n",
       " array([4.833 , 4.8493, 4.8656, 4.8819, 4.8982, 4.9145, 4.9308, 4.9471,\n",
       "        4.9634, 4.9797, 4.996 , 5.0123, 5.0286, 5.0449, 5.0612, 5.0775,\n",
       "        5.0938, 5.1101, 5.1264, 5.1427, 5.159 ]),\n",
       " <BarContainer object of 20 artists>)"
      ]
     },
     "execution_count": 16,
     "metadata": {},
     "output_type": "execute_result"
    },
    {
     "data": {
      "image/png": "[encoded data removed]",
      "text/plain": [
       "<Figure size 640x480 with 1 Axes>"
      ]
     },
     "metadata": {},
     "output_type": "display_data"
    }
   ],
   "source": [
    "fig, ax = plt.subplots()\n",
    "\n",
    "rng = np.random.default_rng()\n",
    "n, p = 10, .5  # number of trials, probability of each trial\n",
    "q = []\n",
    "for i in range(1000):\n",
    "    s = rng.binomial(n, p, 1000)\n",
    "    q += [s.mean()]\n",
    "# np.array(q).hist()\n",
    "ax.hist(q, bins=20)\n"
   ]
  },
  {
   "cell_type": "code",
   "execution_count": null,
   "metadata": {},
   "outputs": [],
   "source": [
    "s2 = np.random.normal(0, 0.1, 1000)\n",
    "ax.scatter(x = np.arange(4,5,1/1000), y=s2)"
   ]
  },
  {
   "cell_type": "code",
   "execution_count": 4,
   "metadata": {},
   "outputs": [
    {
     "data": {
      "text/plain": [
       "array([ 5,  7,  6,  5,  3,  8,  4,  3,  7,  5,  6,  6,  7,  5,  6,  6,  8,\n",
       "        1,  3,  5,  5,  5,  6,  3,  2,  5,  6,  6,  6,  5,  4,  5,  5,  7,\n",
       "        5,  5,  6,  2,  6,  6,  4,  4,  8,  5,  5,  3,  8,  5,  5,  5,  6,\n",
       "        5,  6,  6,  8,  4,  3,  5,  4,  5,  5,  6,  2,  4,  5,  3,  6,  5,\n",
       "        6,  6,  5,  4,  6,  7,  7,  3,  2,  4,  5,  7,  7,  5,  6,  5,  7,\n",
       "        5,  4,  4,  5,  6,  6,  6,  5,  5,  4,  4,  4,  4,  5,  4,  4,  6,\n",
       "        5,  5,  7,  6,  7,  4,  1,  7,  4,  6,  4,  2,  6,  8,  6,  3,  6,\n",
       "        6,  4,  6,  2,  5,  5,  6,  6,  5,  3,  3,  4,  4,  3,  6,  5,  5,\n",
       "        5,  3,  6,  8,  3,  6,  5,  5,  6,  5,  5,  3,  7,  8,  3,  4,  5,\n",
       "        2,  7,  6,  6,  5,  5,  4,  3,  5,  6,  6,  4,  7,  3,  5,  5,  6,\n",
       "        3,  7,  7,  6,  6,  6,  4,  7,  9,  5,  4,  5,  5,  7,  4,  3,  4,\n",
       "        6,  7,  6,  5,  3,  3,  5,  5,  7,  4,  2,  5,  6,  7,  3,  5,  6,\n",
       "        6,  5,  4,  5,  5,  3,  4,  6,  3,  8,  3,  5,  6,  6,  6,  8,  8,\n",
       "        4,  4,  5,  4,  7,  5,  5,  4,  4,  2,  7,  3,  6,  1,  4,  4,  5,\n",
       "        5,  5,  3,  3,  5,  4,  5,  7,  5,  5,  6,  7,  6,  5,  2,  4,  5,\n",
       "        4,  7,  9,  5,  4,  5,  5,  4,  5,  5,  5,  8,  3,  5,  2,  5,  6,\n",
       "        7,  2,  7,  6,  2,  3,  7,  6,  4,  4,  5,  3,  1,  4,  7,  6,  2,\n",
       "        4,  5,  8,  2,  7,  5,  4,  6,  5,  5,  4,  6,  1,  6,  4,  6,  8,\n",
       "        7,  8,  4,  5,  3,  5,  4,  4,  7,  6,  6,  6,  2,  5,  4,  6,  4,\n",
       "        4,  2,  5,  2,  6,  4,  3,  4,  5,  4,  3,  6,  6,  2,  6,  5,  3,\n",
       "        5,  7,  5,  5,  7,  3,  6,  5,  2,  5,  5,  4,  6,  6,  3,  1,  4,\n",
       "        3,  8,  7,  4,  4,  8,  5,  5,  2,  6,  4,  6,  7,  5,  5,  8,  6,\n",
       "        5,  3,  6,  7,  5,  6,  6,  5,  6,  5,  4,  9,  3,  6,  3,  6,  6,\n",
       "        4,  3,  3,  7,  7,  4,  4,  4,  6,  5,  3,  6,  7,  5,  5,  3,  5,\n",
       "        4,  3,  5,  7,  7,  6,  6,  5,  6,  5,  5,  2,  5,  5,  3,  7,  5,\n",
       "        6,  5,  4,  2,  5,  5,  9,  3,  7,  5,  5,  4,  5,  3,  4,  4,  7,\n",
       "        8,  7,  6,  5,  3,  3,  6,  5,  3,  3,  3,  7,  5,  6,  5,  4,  5,\n",
       "        6,  5,  5,  5,  5,  4,  4,  4,  7,  5,  4,  6,  6,  5,  7,  6,  5,\n",
       "        3,  4,  5,  5,  5,  6,  6,  6,  4,  2,  4,  3,  5,  4,  8,  3,  3,\n",
       "        5,  5,  4,  7,  6,  4,  6,  8,  4,  4,  4,  2,  8,  5,  6,  6,  8,\n",
       "        7,  5,  3,  2,  4,  5,  3,  4,  2,  5,  4,  5,  6,  5,  4,  2,  7,\n",
       "        9,  5,  5,  7, 10,  3,  5,  5,  7,  6,  4,  2,  4,  6,  6,  2,  3,\n",
       "        5,  3,  6,  8,  6,  5,  4,  8,  4,  4,  3,  6,  3,  4,  4,  4,  6,\n",
       "        3,  7,  6,  4,  5,  7,  4,  5,  5,  6,  3,  7,  6,  3,  4,  6,  7,\n",
       "        8,  5,  3,  3,  6,  4,  7,  7,  2,  7,  5,  4,  4,  2,  8,  5,  5,\n",
       "        3,  4,  3,  5,  7,  6,  4,  5,  2,  3,  5,  5,  7,  8,  6,  5,  3,\n",
       "        9,  4,  4,  5,  6,  7,  7,  3,  6,  5,  7,  6,  5,  3,  6,  5,  4,\n",
       "        5,  7,  4,  5,  6,  2,  6,  3,  2,  4,  7,  5,  5,  2,  4,  5,  5,\n",
       "        3,  9,  5,  4,  4,  2,  4,  4,  8,  3,  3,  5,  5,  6,  4,  3,  7,\n",
       "        7,  4,  4,  4,  3,  3,  5,  3,  4,  6,  2,  5,  5,  2,  4,  6,  7,\n",
       "        2,  5,  4,  5,  7,  5,  5,  4,  4,  6,  7,  6,  7,  7,  3,  5,  5,\n",
       "        3,  3,  4,  6,  3,  6,  5,  6,  5,  6,  8,  5,  8,  8,  4,  6,  2,\n",
       "        4,  3,  6,  4,  3,  3,  7,  4,  2,  5,  3,  5,  5,  4,  3,  6,  2,\n",
       "        4,  4,  6,  3,  6,  2,  5,  5,  8,  6,  7,  5,  3,  6,  4,  8,  5,\n",
       "        5,  4,  7,  2,  6,  7,  6,  4,  5,  6,  4,  4,  3,  5,  8,  3,  7,\n",
       "        5,  4,  5,  3,  6,  6,  5,  3,  6,  5,  4,  3,  6,  4,  4,  6,  4,\n",
       "        3,  6,  5,  5,  6,  5,  5,  4,  6,  6,  5,  6,  5,  4,  3,  6,  6,\n",
       "        4,  6,  2,  3,  4,  9,  4,  5,  5,  3,  7,  5,  7,  3,  5,  4,  5,\n",
       "        2,  7,  6,  6,  4,  4,  5,  6,  5,  4,  5,  6,  6,  7,  4,  4,  8,\n",
       "        5,  5,  6,  6,  4,  4,  4,  4,  5,  5,  7,  8,  8,  6,  4,  5,  5,\n",
       "        7,  3,  5,  5,  5,  4,  5,  5,  4,  4,  4,  7,  5,  3,  5,  2,  2,\n",
       "        6,  5,  6,  5,  3,  4,  7,  6,  7,  2,  6,  2,  6,  4,  4,  7,  5,\n",
       "        5,  5,  3,  2,  4,  4,  7,  6,  3,  5,  4,  4,  7,  7,  1,  6,  5,\n",
       "        4,  3,  4,  6,  6,  4,  5,  4,  4,  7,  5,  7,  3,  3,  3,  4,  4,\n",
       "        7,  5,  9,  6,  5,  6,  5,  7,  8,  5,  6,  5,  2,  3,  6,  4,  4,\n",
       "        8,  4,  5,  7,  7,  3,  4,  5,  6,  5,  5,  1,  7,  5,  3,  2,  2,\n",
       "        8,  3,  6,  4,  7,  8,  5,  5,  7,  5,  4,  4,  5,  8,  8,  7,  6,\n",
       "        6,  7,  6,  4,  6,  4,  2,  4,  6,  5,  5,  5,  5,  4,  7,  6,  8,\n",
       "        6,  2,  4,  4,  4,  4,  4,  7,  5,  6,  4,  6,  8,  4])"
      ]
     },
     "execution_count": 4,
     "metadata": {},
     "output_type": "execute_result"
    }
   ],
   "source": [
    "s2 = rng.binomial(n,p,1000)\n",
    "s2"
   ]
  },
  {
   "cell_type": "code",
   "execution_count": null,
   "metadata": {},
   "outputs": [],
   "source": [
    "fig, ax = plt.subplots()\n",
    "\n"
   ]
  }
 ],
 "metadata": {
  "kernelspec": {
   "display_name": "Python 3",
   "language": "python",
   "name": "python3"
  },
  "language_info": {
   "codemirror_mode": {
    "name": "ipython",
    "version": 3
   },
   "file_extension": ".py",
   "mimetype": "text/x-python",
   "name": "python",
   "nbconvert_exporter": "python",
   "pygments_lexer": "ipython3",
   "version": "3.11.4"
  },
  "orig_nbformat": 4
 },
 "nbformat": 4,
 "nbformat_minor": 2
}
